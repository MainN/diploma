{
  "nbformat": 4,
  "nbformat_minor": 0,
  "metadata": {
    "colab": {
      "name": "Pystan_measles.ipynb",
      "provenance": [],
      "collapsed_sections": [],
      "authorship_tag": "ABX9TyO1zY8hKqPrdii5VkH39Vww",
      "include_colab_link": true
    },
    "kernelspec": {
      "name": "python3",
      "display_name": "Python 3"
    }
  },
  "cells": [
    {
      "cell_type": "markdown",
      "metadata": {
        "id": "view-in-github",
        "colab_type": "text"
      },
      "source": [
        "<a href=\"https://colab.research.google.com/github/MainN/diploma/blob/master/Pystan_measles.ipynb\" target=\"_parent\"><img src=\"https://colab.research.google.com/assets/colab-badge.svg\" alt=\"Open In Colab\"/></a>"
      ]
    },
    {
      "cell_type": "code",
      "metadata": {
        "colab": {
          "base_uri": "https://localhost:8080/"
        },
        "id": "4ghgK4XUtqMK",
        "outputId": "88d54cf4-995c-4144-bacd-122096416e81"
      },
      "source": [
        "!pip install pystan\n",
        "!pip install stan_utility"
      ],
      "execution_count": 76,
      "outputs": [
        {
          "output_type": "stream",
          "text": [
            "Requirement already satisfied: pystan in /usr/local/lib/python3.7/dist-packages (2.19.1.1)\n",
            "Requirement already satisfied: Cython!=0.25.1,>=0.22 in /usr/local/lib/python3.7/dist-packages (from pystan) (0.29.22)\n",
            "Requirement already satisfied: numpy>=1.7 in /usr/local/lib/python3.7/dist-packages (from pystan) (1.19.5)\n",
            "Requirement already satisfied: stan_utility in /usr/local/lib/python3.7/dist-packages (0.1.2)\n",
            "Requirement already satisfied: pystan in /usr/local/lib/python3.7/dist-packages (from stan_utility) (2.19.1.1)\n",
            "Requirement already satisfied: pandas in /usr/local/lib/python3.7/dist-packages (from stan_utility) (1.1.5)\n",
            "Requirement already satisfied: numpy in /usr/local/lib/python3.7/dist-packages (from stan_utility) (1.19.5)\n",
            "Requirement already satisfied: h5py in /usr/local/lib/python3.7/dist-packages (from stan_utility) (2.10.0)\n",
            "Requirement already satisfied: scipy in /usr/local/lib/python3.7/dist-packages (from stan_utility) (1.4.1)\n",
            "Requirement already satisfied: Cython!=0.25.1,>=0.22 in /usr/local/lib/python3.7/dist-packages (from pystan->stan_utility) (0.29.22)\n",
            "Requirement already satisfied: pytz>=2017.2 in /usr/local/lib/python3.7/dist-packages (from pandas->stan_utility) (2018.9)\n",
            "Requirement already satisfied: python-dateutil>=2.7.3 in /usr/local/lib/python3.7/dist-packages (from pandas->stan_utility) (2.8.1)\n",
            "Requirement already satisfied: six in /usr/local/lib/python3.7/dist-packages (from h5py->stan_utility) (1.15.0)\n"
          ],
          "name": "stdout"
        }
      ]
    },
    {
      "cell_type": "code",
      "metadata": {
        "id": "vG9ebhJrtxqj"
      },
      "source": [
        "import os\n",
        "import pystan\n",
        "import seaborn as sns\n",
        "import pandas as pd\n",
        "from math import exp, cos, pi, log\n",
        "import stan_utility"
      ],
      "execution_count": 77,
      "outputs": []
    },
    {
      "cell_type": "code",
      "metadata": {
        "id": "REgAk8_61N-I",
        "colab": {
          "base_uri": "https://localhost:8080/"
        },
        "outputId": "b3be25f0-3462-40ce-9082-f0bdde58ac0d"
      },
      "source": [
        "from google.colab import drive\n",
        "drive.mount('/content/gdrive')\n"
      ],
      "execution_count": 78,
      "outputs": [
        {
          "output_type": "stream",
          "text": [
            "Drive already mounted at /content/gdrive; to attempt to forcibly remount, call drive.mount(\"/content/gdrive\", force_remount=True).\n"
          ],
          "name": "stdout"
        }
      ]
    },
    {
      "cell_type": "code",
      "metadata": {
        "id": "sPBZNlwj1S4t",
        "colab": {
          "base_uri": "https://localhost:8080/",
          "height": 419
        },
        "outputId": "acd7a742-425b-46fb-8af3-785d11bf40eb"
      },
      "source": [
        "My_data=pd.read_csv(\"/content/gdrive/My Drive/data.csv\")\n",
        "My_data=My_data.fillna(0)\n",
        "My_data\n"
      ],
      "execution_count": 79,
      "outputs": [
        {
          "output_type": "execute_result",
          "data": {
            "text/html": [
              "<div>\n",
              "<style scoped>\n",
              "    .dataframe tbody tr th:only-of-type {\n",
              "        vertical-align: middle;\n",
              "    }\n",
              "\n",
              "    .dataframe tbody tr th {\n",
              "        vertical-align: top;\n",
              "    }\n",
              "\n",
              "    .dataframe thead th {\n",
              "        text-align: right;\n",
              "    }\n",
              "</style>\n",
              "<table border=\"1\" class=\"dataframe\">\n",
              "  <thead>\n",
              "    <tr style=\"text-align: right;\">\n",
              "      <th></th>\n",
              "      <th>t5</th>\n",
              "      <th>t6</th>\n",
              "      <th>t9</th>\n",
              "      <th>t12</th>\n",
              "      <th>t15</th>\n",
              "      <th>t20</th>\n",
              "    </tr>\n",
              "  </thead>\n",
              "  <tbody>\n",
              "    <tr>\n",
              "      <th>0</th>\n",
              "      <td>386.0</td>\n",
              "      <td>249.0</td>\n",
              "      <td>108.0</td>\n",
              "      <td>66.0</td>\n",
              "      <td>67.0</td>\n",
              "      <td>59.0</td>\n",
              "    </tr>\n",
              "    <tr>\n",
              "      <th>1</th>\n",
              "      <td>281.0</td>\n",
              "      <td>229.0</td>\n",
              "      <td>39.0</td>\n",
              "      <td>38.0</td>\n",
              "      <td>0.0</td>\n",
              "      <td>18.0</td>\n",
              "    </tr>\n",
              "    <tr>\n",
              "      <th>2</th>\n",
              "      <td>0.0</td>\n",
              "      <td>115.0</td>\n",
              "      <td>0.0</td>\n",
              "      <td>0.0</td>\n",
              "      <td>0.0</td>\n",
              "      <td>28.0</td>\n",
              "    </tr>\n",
              "    <tr>\n",
              "      <th>3</th>\n",
              "      <td>122.0</td>\n",
              "      <td>0.0</td>\n",
              "      <td>105.0</td>\n",
              "      <td>21.0</td>\n",
              "      <td>34.0</td>\n",
              "      <td>32.0</td>\n",
              "    </tr>\n",
              "    <tr>\n",
              "      <th>4</th>\n",
              "      <td>868.0</td>\n",
              "      <td>482.0</td>\n",
              "      <td>370.0</td>\n",
              "      <td>0.0</td>\n",
              "      <td>98.0</td>\n",
              "      <td>72.0</td>\n",
              "    </tr>\n",
              "    <tr>\n",
              "      <th>...</th>\n",
              "      <td>...</td>\n",
              "      <td>...</td>\n",
              "      <td>...</td>\n",
              "      <td>...</td>\n",
              "      <td>...</td>\n",
              "      <td>...</td>\n",
              "    </tr>\n",
              "    <tr>\n",
              "      <th>159</th>\n",
              "      <td>463.0</td>\n",
              "      <td>254.0</td>\n",
              "      <td>0.0</td>\n",
              "      <td>97.0</td>\n",
              "      <td>0.0</td>\n",
              "      <td>47.0</td>\n",
              "    </tr>\n",
              "    <tr>\n",
              "      <th>160</th>\n",
              "      <td>478.0</td>\n",
              "      <td>93.0</td>\n",
              "      <td>0.0</td>\n",
              "      <td>38.0</td>\n",
              "      <td>23.0</td>\n",
              "      <td>20.0</td>\n",
              "    </tr>\n",
              "    <tr>\n",
              "      <th>161</th>\n",
              "      <td>0.0</td>\n",
              "      <td>402.0</td>\n",
              "      <td>0.0</td>\n",
              "      <td>0.0</td>\n",
              "      <td>26.0</td>\n",
              "      <td>20.0</td>\n",
              "    </tr>\n",
              "    <tr>\n",
              "      <th>162</th>\n",
              "      <td>159.0</td>\n",
              "      <td>100.0</td>\n",
              "      <td>48.0</td>\n",
              "      <td>31.0</td>\n",
              "      <td>14.0</td>\n",
              "      <td>12.0</td>\n",
              "    </tr>\n",
              "    <tr>\n",
              "      <th>163</th>\n",
              "      <td>121.0</td>\n",
              "      <td>60.0</td>\n",
              "      <td>0.0</td>\n",
              "      <td>41.0</td>\n",
              "      <td>13.0</td>\n",
              "      <td>7.0</td>\n",
              "    </tr>\n",
              "  </tbody>\n",
              "</table>\n",
              "<p>164 rows × 6 columns</p>\n",
              "</div>"
            ],
            "text/plain": [
              "        t5     t6     t9   t12   t15   t20\n",
              "0    386.0  249.0  108.0  66.0  67.0  59.0\n",
              "1    281.0  229.0   39.0  38.0   0.0  18.0\n",
              "2      0.0  115.0    0.0   0.0   0.0  28.0\n",
              "3    122.0    0.0  105.0  21.0  34.0  32.0\n",
              "4    868.0  482.0  370.0   0.0  98.0  72.0\n",
              "..     ...    ...    ...   ...   ...   ...\n",
              "159  463.0  254.0    0.0  97.0   0.0  47.0\n",
              "160  478.0   93.0    0.0  38.0  23.0  20.0\n",
              "161    0.0  402.0    0.0   0.0  26.0  20.0\n",
              "162  159.0  100.0   48.0  31.0  14.0  12.0\n",
              "163  121.0   60.0    0.0  41.0  13.0   7.0\n",
              "\n",
              "[164 rows x 6 columns]"
            ]
          },
          "metadata": {
            "tags": []
          },
          "execution_count": 79
        }
      ]
    },
    {
      "cell_type": "code",
      "metadata": {
        "id": "8QfjJFyjuOa7",
        "colab": {
          "base_uri": "https://localhost:8080/"
        },
        "outputId": "b4ec8249-5719-42ac-e296-8077ab430cdd"
      },
      "source": [
        "code ='''\n",
        "data {\n",
        "    int  T ;  // Time\n",
        "    int  N ;  // number of individuals\n",
        "    real time[T]; // time measurements\n",
        "    real dset[N,T]; // data\n",
        "    \n",
        " }\n",
        "parameters {\n",
        "    real b0;\n",
        "    real b1;\n",
        "    vector[N] C;\n",
        "    real<lower = 0> delta_C;\n",
        "    real<lower = 0> delta_ERR;\n",
        "}\n",
        "model {\n",
        "    delta_ERR ~ exponential(1);\n",
        "    delta_C ~ exponential(1);\n",
        "    b0 ~ normal(0,1);\n",
        "    b1 ~ normal(0,1);\n",
        "    C ~ normal(0,delta_C);\n",
        "    for (t in 1:T) {\n",
        "        for (i in 1:N) {\n",
        "            if (dset[i,t] != 0)  {dset[i,t] ~ normal(C[i] + b0 + b1 * time[t],delta_ERR);}\n",
        "        }\n",
        "    }\n",
        "}\n",
        "'''\n",
        "sm = pystan.StanModel(model_code=code)\n"
      ],
      "execution_count": 80,
      "outputs": [
        {
          "output_type": "stream",
          "text": [
            "INFO:pystan:COMPILING THE C++ CODE FOR MODEL anon_model_fe15037ebbe0e7dfad1b1a69aea68d55 NOW.\n"
          ],
          "name": "stderr"
        }
      ]
    },
    {
      "cell_type": "code",
      "metadata": {
        "id": "pHmoaJHZ0twF"
      },
      "source": [
        "T=1#6\n",
        "time =[log(x) for x in [1]]#[log(x) for x in [1,2,5,8,11,16]]\n",
        "N = 1 #len(My_data)\n",
        "data  = dict(\n",
        "        T=T,\n",
        "        N=N,\n",
        "        dset=[[My_data.values[1][1]]],\n",
        "        time=time)\n",
        "init = dict(\n",
        "    b0 = 6,\n",
        "    b1 = -2,\n",
        "    C = [0]*N,\n",
        "    delta_C=1,\n",
        "    delta_ERR=1)  \n"
      ],
      "execution_count": 81,
      "outputs": []
    },
    {
      "cell_type": "code",
      "metadata": {
        "id": "TZIBcyktujmh",
        "colab": {
          "base_uri": "https://localhost:8080/"
        },
        "outputId": "f6e2d96e-eb33-4384-8713-ac0d6fca2350"
      },
      "source": [
        "fit = sm.sampling(data=data, iter=10000, chains=4, init=[init]*4,thin=1,control={'max_treedepth': 20})\n",
        "op = fit.extract()  "
      ],
      "execution_count": 82,
      "outputs": [
        {
          "output_type": "stream",
          "text": [
            "WARNING:pystan:3046 of 20000 iterations ended with a divergence (15.2 %).\n",
            "WARNING:pystan:Try running with adapt_delta larger than 0.8 to remove the divergences.\n"
          ],
          "name": "stderr"
        }
      ]
    },
    {
      "cell_type": "code",
      "metadata": {
        "id": "gIxJ76q3E6sU",
        "colab": {
          "base_uri": "https://localhost:8080/"
        },
        "outputId": "654f55e0-aba0-465a-afcb-b22d59699fdc"
      },
      "source": [
        "print(fit)"
      ],
      "execution_count": 83,
      "outputs": [
        {
          "output_type": "stream",
          "text": [
            "Inference for Stan model: anon_model_fe15037ebbe0e7dfad1b1a69aea68d55.\n",
            "4 chains, each with iter=10000; warmup=5000; thin=1; \n",
            "post-warmup draws per chain=5000, total post-warmup draws=20000.\n",
            "\n",
            "            mean se_mean     sd   2.5%    25%    50%    75%  97.5%  n_eff   Rhat\n",
            "b0          0.16    0.02   0.98  -1.81  -0.48   0.17   0.83   2.04   1700    1.0\n",
            "b1        9.3e-3    0.04   1.01  -1.97  -0.67   0.01   0.71   1.97    635   1.01\n",
            "C[1]        0.39    0.03    1.7  -2.11  -0.25   0.06   0.63   4.94   3453    1.0\n",
            "delta_C     1.08    0.04   1.09    0.1   0.31   0.72   1.47    4.1    855    1.0\n",
            "delta_ERR  37.72    0.16   3.63  31.49  35.12   37.4  39.94   45.6    508   1.01\n",
            "lp__      -59.18    0.05   1.72 -63.38 -60.11 -58.87 -57.89 -56.84   1021    1.0\n",
            "\n",
            "Samples were drawn using NUTS at Mon Apr 19 12:42:01 2021.\n",
            "For each parameter, n_eff is a crude measure of effective sample size,\n",
            "and Rhat is the potential scale reduction factor on split chains (at \n",
            "convergence, Rhat=1).\n"
          ],
          "name": "stdout"
        }
      ]
    },
    {
      "cell_type": "code",
      "metadata": {
        "id": "3WQH42FK2wh0",
        "colab": {
          "base_uri": "https://localhost:8080/"
        },
        "outputId": "f6df48d6-cd58-48b4-b764-5efe70e85c1e"
      },
      "source": [
        "print(op.keys())\n",
        "print(len(op['b0']))"
      ],
      "execution_count": 84,
      "outputs": [
        {
          "output_type": "stream",
          "text": [
            "odict_keys(['b0', 'b1', 'C', 'delta_C', 'delta_ERR', 'lp__'])\n",
            "20000\n"
          ],
          "name": "stdout"
        }
      ]
    },
    {
      "cell_type": "code",
      "metadata": {
        "id": "Eg4bVCkgnOh8",
        "colab": {
          "base_uri": "https://localhost:8080/",
          "height": 298
        },
        "outputId": "a22c9b54-0f6f-4976-83c8-3b7fdf7cb06e"
      },
      "source": [
        "fit.plot('delta_ERR');"
      ],
      "execution_count": 85,
      "outputs": [
        {
          "output_type": "stream",
          "text": [
            "WARNING:pystan:Deprecation warning. PyStan plotting deprecated, use ArviZ library (Python 3.5+). `pip install arviz`; `arviz.plot_trace(fit)`)\n"
          ],
          "name": "stderr"
        },
        {
          "output_type": "display_data",
          "data": {
            "image/png": "[encoded data removed]",
            "text/plain": [
              "<Figure size 432x288 with 2 Axes>"
            ]
          },
          "metadata": {
            "tags": [],
            "needs_background": "light"
          }
        }
      ]
    },
    {
      "cell_type": "code",
      "metadata": {
        "id": "epP2tjdku1QR",
        "colab": {
          "base_uri": "https://localhost:8080/",
          "height": 298
        },
        "outputId": "87fbc5bd-86a6-4a21-b78d-ed84c8675be6"
      },
      "source": [
        "fit.plot('b0');"
      ],
      "execution_count": 86,
      "outputs": [
        {
          "output_type": "stream",
          "text": [
            "WARNING:pystan:Deprecation warning. PyStan plotting deprecated, use ArviZ library (Python 3.5+). `pip install arviz`; `arviz.plot_trace(fit)`)\n"
          ],
          "name": "stderr"
        },
        {
          "output_type": "display_data",
          "data": {
            "image/png": "[encoded data removed]",
            "text/plain": [
              "<Figure size 432x288 with 2 Axes>"
            ]
          },
          "metadata": {
            "tags": [],
            "needs_background": "light"
          }
        }
      ]
    },
    {
      "cell_type": "code",
      "metadata": {
        "id": "Cm-PpTY53BmL",
        "colab": {
          "base_uri": "https://localhost:8080/",
          "height": 298
        },
        "outputId": "788e8eac-6624-4262-d132-7f1ea068fbcc"
      },
      "source": [
        "fit.plot('b1');"
      ],
      "execution_count": 87,
      "outputs": [
        {
          "output_type": "stream",
          "text": [
            "WARNING:pystan:Deprecation warning. PyStan plotting deprecated, use ArviZ library (Python 3.5+). `pip install arviz`; `arviz.plot_trace(fit)`)\n"
          ],
          "name": "stderr"
        },
        {
          "output_type": "display_data",
          "data": {
            "image/png": "[encoded data removed]",
            "text/plain": [
              "<Figure size 432x288 with 2 Axes>"
            ]
          },
          "metadata": {
            "tags": [],
            "needs_background": "light"
          }
        }
      ]
    },
    {
      "cell_type": "code",
      "metadata": {
        "id": "0Y1YQYzz3UBz",
        "colab": {
          "base_uri": "https://localhost:8080/",
          "height": 298
        },
        "outputId": "14d22bc0-94bd-4fb4-eaee-133a0af47ce0"
      },
      "source": [
        "fit.plot('delta_C');"
      ],
      "execution_count": 88,
      "outputs": [
        {
          "output_type": "stream",
          "text": [
            "WARNING:pystan:Deprecation warning. PyStan plotting deprecated, use ArviZ library (Python 3.5+). `pip install arviz`; `arviz.plot_trace(fit)`)\n"
          ],
          "name": "stderr"
        },
        {
          "output_type": "display_data",
          "data": {
            "image/png": "[encoded data removed]",
            "text/plain": [
              "<Figure size 432x288 with 2 Axes>"
            ]
          },
          "metadata": {
            "tags": [],
            "needs_background": "light"
          }
        }
      ]
    },
    {
      "cell_type": "code",
      "metadata": {
        "id": "TrEuIIcE3Y_y",
        "colab": {
          "base_uri": "https://localhost:8080/",
          "height": 298
        },
        "outputId": "55337262-c566-4314-fa31-2bad84c6d04b"
      },
      "source": [
        "fit.plot('C');"
      ],
      "execution_count": 89,
      "outputs": [
        {
          "output_type": "stream",
          "text": [
            "WARNING:pystan:Deprecation warning. PyStan plotting deprecated, use ArviZ library (Python 3.5+). `pip install arviz`; `arviz.plot_trace(fit)`)\n"
          ],
          "name": "stderr"
        },
        {
          "output_type": "display_data",
          "data": {
            "image/png": "[encoded data removed]",
            "text/plain": [
              "<Figure size 432x288 with 2 Axes>"
            ]
          },
          "metadata": {
            "tags": [],
            "needs_background": "light"
          }
        }
      ]
    }
  ]
}