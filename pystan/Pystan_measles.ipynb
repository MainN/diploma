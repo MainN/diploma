{
  "nbformat": 4,
  "nbformat_minor": 0,
  "metadata": {
    "colab": {
      "name": "Pystan_measles.ipynb",
      "provenance": [],
      "collapsed_sections": [],
      "authorship_tag": "ABX9TyPqt0sfQmnnx97AgdP5ek76"
    },
    "kernelspec": {
      "name": "python3",
      "display_name": "Python 3"
    },
    "accelerator": "GPU"
  },
  "cells": [
    {
      "cell_type": "code",
      "metadata": {
        "colab": {
          "base_uri": "https://localhost:8080/"
        },
        "id": "4ghgK4XUtqMK",
        "outputId": "88311e48-cb0e-47f5-8322-17f018bd089b"
      },
      "source": [
        "!pip install pystan"
      ],
      "execution_count": 1,
      "outputs": [
        {
          "output_type": "stream",
          "text": [
            "Requirement already satisfied: pystan in /usr/local/lib/python3.6/dist-packages (2.19.1.1)\n",
            "Requirement already satisfied: numpy>=1.7 in /usr/local/lib/python3.6/dist-packages (from pystan) (1.18.5)\n",
            "Requirement already satisfied: Cython!=0.25.1,>=0.22 in /usr/local/lib/python3.6/dist-packages (from pystan) (0.29.21)\n"
          ],
          "name": "stdout"
        }
      ]
    },
    {
      "cell_type": "code",
      "metadata": {
        "id": "vG9ebhJrtxqj"
      },
      "source": [
        "import os\n",
        "import pystan\n",
        "import seaborn as sns\n",
        "import pandas as pd\n",
        "from math import exp, cos, pi, log"
      ],
      "execution_count": 5,
      "outputs": []
    },
    {
      "cell_type": "code",
      "metadata": {
        "colab": {
          "base_uri": "https://localhost:8080/"
        },
        "id": "REgAk8_61N-I",
        "outputId": "684d1719-cb09-409b-e34e-5569a878e1be"
      },
      "source": [
        "from google.colab import drive\n",
        "drive.mount('/content/gdrive')\n"
      ],
      "execution_count": 6,
      "outputs": [
        {
          "output_type": "stream",
          "text": [
            "Mounted at /content/gdrive\n"
          ],
          "name": "stdout"
        }
      ]
    },
    {
      "cell_type": "code",
      "metadata": {
        "colab": {
          "base_uri": "https://localhost:8080/",
          "height": 419
        },
        "id": "sPBZNlwj1S4t",
        "outputId": "d02e25fe-97d3-4af2-b421-a2be0476e703"
      },
      "source": [
        "My_data=pd.read_csv(\"/content/gdrive/My Drive/data.csv\")\n",
        "My_data=My_data.fillna(0)\n",
        "My_data\n"
      ],
      "execution_count": 7,
      "outputs": [
        {
          "output_type": "execute_result",
          "data": {
            "text/html": [
              "<div>\n",
              "<style scoped>\n",
              "    .dataframe tbody tr th:only-of-type {\n",
              "        vertical-align: middle;\n",
              "    }\n",
              "\n",
              "    .dataframe tbody tr th {\n",
              "        vertical-align: top;\n",
              "    }\n",
              "\n",
              "    .dataframe thead th {\n",
              "        text-align: right;\n",
              "    }\n",
              "</style>\n",
              "<table border=\"1\" class=\"dataframe\">\n",
              "  <thead>\n",
              "    <tr style=\"text-align: right;\">\n",
              "      <th></th>\n",
              "      <th>t5</th>\n",
              "      <th>t6</th>\n",
              "      <th>t9</th>\n",
              "      <th>t12</th>\n",
              "      <th>t15</th>\n",
              "      <th>t20</th>\n",
              "    </tr>\n",
              "  </thead>\n",
              "  <tbody>\n",
              "    <tr>\n",
              "      <th>0</th>\n",
              "      <td>386.0</td>\n",
              "      <td>249.0</td>\n",
              "      <td>108.0</td>\n",
              "      <td>66.0</td>\n",
              "      <td>67.0</td>\n",
              "      <td>59.0</td>\n",
              "    </tr>\n",
              "    <tr>\n",
              "      <th>1</th>\n",
              "      <td>281.0</td>\n",
              "      <td>229.0</td>\n",
              "      <td>39.0</td>\n",
              "      <td>38.0</td>\n",
              "      <td>0.0</td>\n",
              "      <td>18.0</td>\n",
              "    </tr>\n",
              "    <tr>\n",
              "      <th>2</th>\n",
              "      <td>0.0</td>\n",
              "      <td>115.0</td>\n",
              "      <td>0.0</td>\n",
              "      <td>0.0</td>\n",
              "      <td>0.0</td>\n",
              "      <td>28.0</td>\n",
              "    </tr>\n",
              "    <tr>\n",
              "      <th>3</th>\n",
              "      <td>122.0</td>\n",
              "      <td>0.0</td>\n",
              "      <td>105.0</td>\n",
              "      <td>21.0</td>\n",
              "      <td>34.0</td>\n",
              "      <td>32.0</td>\n",
              "    </tr>\n",
              "    <tr>\n",
              "      <th>4</th>\n",
              "      <td>868.0</td>\n",
              "      <td>482.0</td>\n",
              "      <td>370.0</td>\n",
              "      <td>0.0</td>\n",
              "      <td>98.0</td>\n",
              "      <td>72.0</td>\n",
              "    </tr>\n",
              "    <tr>\n",
              "      <th>...</th>\n",
              "      <td>...</td>\n",
              "      <td>...</td>\n",
              "      <td>...</td>\n",
              "      <td>...</td>\n",
              "      <td>...</td>\n",
              "      <td>...</td>\n",
              "    </tr>\n",
              "    <tr>\n",
              "      <th>159</th>\n",
              "      <td>463.0</td>\n",
              "      <td>254.0</td>\n",
              "      <td>0.0</td>\n",
              "      <td>97.0</td>\n",
              "      <td>0.0</td>\n",
              "      <td>47.0</td>\n",
              "    </tr>\n",
              "    <tr>\n",
              "      <th>160</th>\n",
              "      <td>478.0</td>\n",
              "      <td>93.0</td>\n",
              "      <td>0.0</td>\n",
              "      <td>38.0</td>\n",
              "      <td>23.0</td>\n",
              "      <td>20.0</td>\n",
              "    </tr>\n",
              "    <tr>\n",
              "      <th>161</th>\n",
              "      <td>0.0</td>\n",
              "      <td>402.0</td>\n",
              "      <td>0.0</td>\n",
              "      <td>0.0</td>\n",
              "      <td>26.0</td>\n",
              "      <td>20.0</td>\n",
              "    </tr>\n",
              "    <tr>\n",
              "      <th>162</th>\n",
              "      <td>159.0</td>\n",
              "      <td>100.0</td>\n",
              "      <td>48.0</td>\n",
              "      <td>31.0</td>\n",
              "      <td>14.0</td>\n",
              "      <td>12.0</td>\n",
              "    </tr>\n",
              "    <tr>\n",
              "      <th>163</th>\n",
              "      <td>121.0</td>\n",
              "      <td>60.0</td>\n",
              "      <td>0.0</td>\n",
              "      <td>41.0</td>\n",
              "      <td>13.0</td>\n",
              "      <td>7.0</td>\n",
              "    </tr>\n",
              "  </tbody>\n",
              "</table>\n",
              "<p>164 rows × 6 columns</p>\n",
              "</div>"
            ],
            "text/plain": [
              "        t5     t6     t9   t12   t15   t20\n",
              "0    386.0  249.0  108.0  66.0  67.0  59.0\n",
              "1    281.0  229.0   39.0  38.0   0.0  18.0\n",
              "2      0.0  115.0    0.0   0.0   0.0  28.0\n",
              "3    122.0    0.0  105.0  21.0  34.0  32.0\n",
              "4    868.0  482.0  370.0   0.0  98.0  72.0\n",
              "..     ...    ...    ...   ...   ...   ...\n",
              "159  463.0  254.0    0.0  97.0   0.0  47.0\n",
              "160  478.0   93.0    0.0  38.0  23.0  20.0\n",
              "161    0.0  402.0    0.0   0.0  26.0  20.0\n",
              "162  159.0  100.0   48.0  31.0  14.0  12.0\n",
              "163  121.0   60.0    0.0  41.0  13.0   7.0\n",
              "\n",
              "[164 rows x 6 columns]"
            ]
          },
          "metadata": {
            "tags": []
          },
          "execution_count": 7
        }
      ]
    },
    {
      "cell_type": "code",
      "metadata": {
        "colab": {
          "base_uri": "https://localhost:8080/"
        },
        "id": "8QfjJFyjuOa7",
        "outputId": "b505082b-442a-4af2-86f5-9a87ae83ead4"
      },
      "source": [
        "code ='''\n",
        "data {\n",
        "    int T;  // Time\n",
        "    int N;  // number of individuals\n",
        "    real time[T]; // time measurements\n",
        "    real dset[N,T]; // data\n",
        "    \n",
        " }\n",
        "parameters {\n",
        "    real b0;\n",
        "    real b1;\n",
        "    vector[N] C;\n",
        "    real<lower = 0> delta_C;\n",
        "    real<lower = 0> delta_ERR;\n",
        "}\n",
        "model {\n",
        "    delta_ERR ~ exponential(1);\n",
        "    delta_C ~ exponential(1);\n",
        "    b0 ~ normal(0,1);\n",
        "    b1 ~ normal(0,1);\n",
        "    C ~ normal(0,delta_C);\n",
        "    for (t in 1:T) {\n",
        "        for (i in 1:N) {\n",
        "            if (dset[i,t] != 0)  {dset[i,t] ~ normal(C[i] + b0 + b1 * time[t],delta_ERR);}\n",
        "        }\n",
        "    }\n",
        "}\n",
        "'''\n",
        "sm = pystan.StanModel(model_code=code)\n"
      ],
      "execution_count": 16,
      "outputs": [
        {
          "output_type": "stream",
          "text": [
            "INFO:pystan:COMPILING THE C++ CODE FOR MODEL anon_model_0a590fdc53dbb0c860b77ce393964461 NOW.\n"
          ],
          "name": "stderr"
        }
      ]
    },
    {
      "cell_type": "code",
      "metadata": {
        "id": "pHmoaJHZ0twF"
      },
      "source": [
        "T=6\n",
        "time = [log(x) for x in [1,2,5,8,11,16]]\n",
        "N = len(My_data)\n",
        "data  = dict(\n",
        "        T=T,\n",
        "        N=N,\n",
        "        dset=My_data.values,\n",
        "        time=time)\n",
        "init = dict(\n",
        "    b0 = 6,\n",
        "    b1 = -2,\n",
        "    C = [0]*N,\n",
        "    delta_C=1,\n",
        "    delta_ERR=1)  \n"
      ],
      "execution_count": 18,
      "outputs": []
    },
    {
      "cell_type": "code",
      "metadata": {
        "colab": {
          "base_uri": "https://localhost:8080/"
        },
        "id": "TZIBcyktujmh",
        "outputId": "5987bc2b-1b4a-4f51-818b-af74b8dd9b93"
      },
      "source": [
        "fit = sm.sampling(data=data, iter=1500, chains=4, init=[init]*4,thin=1)\n",
        "op = fit.extract()  "
      ],
      "execution_count": 19,
      "outputs": [
        {
          "output_type": "stream",
          "text": [
            "WARNING:pystan:Rhat above 1.1 or below 0.9 indicates that the chains very likely have not mixed\n",
            "WARNING:pystan:8 of 3000 iterations saturated the maximum tree depth of 10 (0.267 %)\n",
            "WARNING:pystan:Run again with max_treedepth larger than 10 to avoid saturation\n",
            "WARNING:pystan:Chain 1: E-BFMI = 0.0205\n",
            "WARNING:pystan:Chain 2: E-BFMI = 0.0125\n",
            "WARNING:pystan:Chain 3: E-BFMI = 0.0215\n",
            "WARNING:pystan:Chain 4: E-BFMI = 0.0335\n",
            "WARNING:pystan:E-BFMI below 0.2 indicates you may need to reparameterize your model\n"
          ],
          "name": "stderr"
        }
      ]
    },
    {
      "cell_type": "code",
      "metadata": {
        "colab": {
          "base_uri": "https://localhost:8080/"
        },
        "id": "3WQH42FK2wh0",
        "outputId": "897799a2-d4f9-4a38-ff21-dfb0a047e8a9"
      },
      "source": [
        "print(op.keys())"
      ],
      "execution_count": 24,
      "outputs": [
        {
          "output_type": "stream",
          "text": [
            "odict_keys(['b0', 'b1', 'C', 'delta_C', 'delta_ERR', 'lp__'])\n"
          ],
          "name": "stdout"
        }
      ]
    },
    {
      "cell_type": "code",
      "metadata": {
        "colab": {
          "base_uri": "https://localhost:8080/",
          "height": 282
        },
        "id": "epP2tjdku1QR",
        "outputId": "a5129fac-bf09-469b-9b49-2bdcbbd75134"
      },
      "source": [
        "sns.lineplot(x=range(1,3001),y=op['b0'])"
      ],
      "execution_count": 22,
      "outputs": [
        {
          "output_type": "execute_result",
          "data": {
            "text/plain": [
              "<matplotlib.axes._subplots.AxesSubplot at 0x7ff99ccaac50>"
            ]
          },
          "metadata": {
            "tags": []
          },
          "execution_count": 22
        },
        {
          "output_type": "display_data",
          "data": {
            "image/png": "[encoded data removed]",
            "text/plain": [
              "<Figure size 432x288 with 1 Axes>"
            ]
          },
          "metadata": {
            "tags": [],
            "needs_background": "light"
          }
        }
      ]
    },
    {
      "cell_type": "code",
      "metadata": {
        "colab": {
          "base_uri": "https://localhost:8080/",
          "height": 282
        },
        "id": "Cm-PpTY53BmL",
        "outputId": "5ce48b16-7e6a-4c6c-8a23-9adbb0d358be"
      },
      "source": [
        "sns.lineplot(x=range(1,3001),y=op['b1'])"
      ],
      "execution_count": 25,
      "outputs": [
        {
          "output_type": "execute_result",
          "data": {
            "text/plain": [
              "<matplotlib.axes._subplots.AxesSubplot at 0x7ff99d3111d0>"
            ]
          },
          "metadata": {
            "tags": []
          },
          "execution_count": 25
        },
        {
          "output_type": "display_data",
          "data": {
            "image/png": "[encoded data removed]",
            "text/plain": [
              "<Figure size 432x288 with 1 Axes>"
            ]
          },
          "metadata": {
            "tags": [],
            "needs_background": "light"
          }
        }
      ]
    },
    {
      "cell_type": "code",
      "metadata": {
        "colab": {
          "base_uri": "https://localhost:8080/",
          "height": 282
        },
        "id": "0Y1YQYzz3UBz",
        "outputId": "75fcaa02-bba2-46a9-b80c-5973b5cba0bc"
      },
      "source": [
        "sns.lineplot(x=range(1,3001),y=op['lp__'])"
      ],
      "execution_count": 26,
      "outputs": [
        {
          "output_type": "execute_result",
          "data": {
            "text/plain": [
              "<matplotlib.axes._subplots.AxesSubplot at 0x7ff99d311710>"
            ]
          },
          "metadata": {
            "tags": []
          },
          "execution_count": 26
        },
        {
          "output_type": "display_data",
          "data": {
            "image/png": "[encoded data removed]",
            "text/plain": [
              "<Figure size 432x288 with 1 Axes>"
            ]
          },
          "metadata": {
            "tags": [],
            "needs_background": "light"
          }
        }
      ]
    },
    {
      "cell_type": "code",
      "metadata": {
        "colab": {
          "base_uri": "https://localhost:8080/",
          "height": 282
        },
        "id": "TrEuIIcE3Y_y",
        "outputId": "ead2080f-f807-4ea9-eb5a-bc33940f3c73"
      },
      "source": [
        "sns.lineplot(x=range(1,3001),y=op['delta_C'])"
      ],
      "execution_count": 28,
      "outputs": [
        {
          "output_type": "execute_result",
          "data": {
            "text/plain": [
              "<matplotlib.axes._subplots.AxesSubplot at 0x7ff99b257630>"
            ]
          },
          "metadata": {
            "tags": []
          },
          "execution_count": 28
        },
        {
          "output_type": "display_data",
          "data": {
            "image/png": "[encoded data removed]",
            "text/plain": [
              "<Figure size 432x288 with 1 Axes>"
            ]
          },
          "metadata": {
            "tags": [],
            "needs_background": "light"
          }
        }
      ]
    },
    {
      "cell_type": "code",
      "metadata": {
        "colab": {
          "base_uri": "https://localhost:8080/",
          "height": 282
        },
        "id": "9J0uCnJs3kjB",
        "outputId": "00fed42d-32ce-4dae-e243-693288dc5ee7"
      },
      "source": [
        "sns.lineplot(x=range(1,3001),y=op['delta_ERR'])"
      ],
      "execution_count": 29,
      "outputs": [
        {
          "output_type": "execute_result",
          "data": {
            "text/plain": [
              "<matplotlib.axes._subplots.AxesSubplot at 0x7ff99a61d748>"
            ]
          },
          "metadata": {
            "tags": []
          },
          "execution_count": 29
        },
        {
          "output_type": "display_data",
          "data": {
            "image/png": "[encoded data removed]",
            "text/plain": [
              "<Figure size 432x288 with 1 Axes>"
            ]
          },
          "metadata": {
            "tags": [],
            "needs_background": "light"
          }
        }
      ]
    }
  ]
}